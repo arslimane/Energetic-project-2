{
 "cells": [
  {
   "cell_type": "code",
   "execution_count": null,
   "id": "e16599a4",
   "metadata": {},
   "outputs": [],
   "source": [
    "#!pip install tensorflow\n",
    "import pandas as pd\n",
    "import tensorflow as tf\n",
    "import numpy as np\n",
    "import os\n",
    "import scipy.io\n",
    "import h5py\n",
    "import tensorflow as tf\n",
    "from tensorflow import keras\n",
    "from tensorflow.keras.layers import Dense, LSTM\n",
    "from tensorflow.keras.models import Sequential\n",
    "from sklearn.model_selection import train_test_split\n",
    "from tensorflow.keras.preprocessing.sequence import TimeseriesGenerator\n",
    "from tensorflow.keras.layers import Flatten\n",
    "from tensorflow.keras.optimizers import Adam\n",
    "import tensorflow.keras.backend as K\n",
    "import pickle\n",
    "import matplotlib.pyplot as plt\n",
    "from scipy.interpolate import interp1d\n",
    "from IPython.display import clear_output\n",
    "from scipy.signal import savgol_filter\n",
    "import gc"
   ]
  },
  {
   "cell_type": "code",
   "execution_count": null,
   "id": "c63909cd",
   "metadata": {},
   "outputs": [],
   "source": [
    "def load_data(file_name,pickle_name,bn):\n",
    "  f = h5py.File(file_name,\"r\")\n",
    "  print(list(f.keys()))\n",
    "  batch=f.get(\"batch\")\n",
    "  num_cells = batch['summary'].shape[0]\n",
    "  bat_dict = {}\n",
    "  for i in range(num_cells):\n",
    "    cl = f[batch['cycle_life'][i,0]][()] #ici on a remplacé \".value\" par \"[()]\", et dans toutes les lignes suivantes\n",
    "    policy = f[batch['policy_readable'][i,0]][()].tobytes()[::2].decode()\n",
    "    summary_IR = np.hstack(f[batch['summary'][i,0]]['IR'][0,:].tolist())\n",
    "    summary_QC = np.hstack(f[batch['summary'][i,0]]['QCharge'][0,:].tolist())\n",
    "    summary_QD = np.hstack(f[batch['summary'][i,0]]['QDischarge'][0,:].tolist())\n",
    "    summary_TA = np.hstack(f[batch['summary'][i,0]]['Tavg'][0,:].tolist())\n",
    "    summary_TM = np.hstack(f[batch['summary'][i,0]]['Tmin'][0,:].tolist())\n",
    "    summary_TX = np.hstack(f[batch['summary'][i,0]]['Tmax'][0,:].tolist())\n",
    "    summary_CT = np.hstack(f[batch['summary'][i,0]]['chargetime'][0,:].tolist())\n",
    "    summary_CY = np.hstack(f[batch['summary'][i,0]]['cycle'][0,:].tolist())\n",
    "    summary = ({'IR': summary_IR, #création d'un 1er dict avec les données \"résumées\", càd 1 donnée par cycle\n",
    "               'QC': summary_QC, \n",
    "               'QD': summary_QD, \n",
    "               'Tavg': summary_TA, \n",
    "               'Tmin': summary_TM, \n",
    "               'Tmax': summary_TX, \n",
    "               'chargetime': summary_CT,\n",
    "               'cycle': summary_CY}) \n",
    "    cycles = f[batch['cycles'][i,0]]\n",
    "    cycle_dict = {}\n",
    "    for j in range(cycles['I'].shape[0]):\n",
    "        I = np.hstack((f[cycles['I'][j,0]][()]))\n",
    "        Qc = np.hstack((f[cycles['Qc'][j,0]][()]))\n",
    "        Qd = np.hstack((f[cycles['Qd'][j,0]][()]))\n",
    "        Qdlin = np.hstack((f[cycles['Qdlin'][j,0]][()]))\n",
    "        T = np.hstack((f[cycles['T'][j,0]][()]))\n",
    "        Tdlin = np.hstack((f[cycles['Tdlin'][j,0]][()]))\n",
    "        V = np.hstack((f[cycles['V'][j,0]][()]))\n",
    "        dQdV = np.hstack((f[cycles['discharge_dQdV'][j,0]][()]))\n",
    "        t = np.hstack((f[cycles['t'][j,0]][()]))\n",
    "        cd = ({'I': I,  \n",
    "               'Qc': Qc, \n",
    "               'Qd': Qd, \n",
    "               'Qdlin': Qdlin, \n",
    "               'T': T, \n",
    "               'Tdlin': Tdlin, \n",
    "               'V':V, \n",
    "               'dQdV': dQdV, \n",
    "               't':t})\n",
    "        cycle_dict[str(j)] = cd\n",
    "        \n",
    "    cell_dict = ({'cycle_life': cl, \n",
    "                 'charge_policy':policy, \n",
    "                  'summary': summary, \n",
    "                  'cycles': cycle_dict})\n",
    "    key = \"b\"+bn+\"c\" + str(i)\n",
    "    bat_dict[key]=   cell_dict\n",
    "\n",
    "\n",
    "  df=pd.DataFrame(bat_dict)\n",
    "\n",
    "  with open(pickle_name,'wb') as fp:\n",
    "        pickle.dump(bat_dict,fp) \n",
    "  return df"
   ]
  },
  {
   "cell_type": "code",
   "execution_count": null,
   "id": "412f2efc",
   "metadata": {},
   "outputs": [],
   "source": [
    "path_to_file=\"\""
   ]
  },
  {
   "cell_type": "code",
   "execution_count": null,
   "id": "65c469e5",
   "metadata": {},
   "outputs": [],
   "source": [
    "b1=load_data(path_to_file+\"2017-05-12_batchdata_updated_struct_errorcorrect.mat\",\"batch1.pkl\",\"1\")\n",
    "b2=load_data(path_to_file+\"2017-06-30_batchdata_updated_struct_errorcorrect.mat\",\"batch2.pkl\",\"2\")\n",
    "b3=load_data(path_to_file+\"2018-04-12_batchdata_updated_struct_errorcorrect.mat\",\"batch3.pkl\",\"3\")"
   ]
  }
 ],
 "metadata": {
  "kernelspec": {
   "display_name": "Python 3 (ipykernel)",
   "language": "python",
   "name": "python3"
  },
  "language_info": {
   "codemirror_mode": {
    "name": "ipython",
    "version": 3
   },
   "file_extension": ".py",
   "mimetype": "text/x-python",
   "name": "python",
   "nbconvert_exporter": "python",
   "pygments_lexer": "ipython3",
   "version": "3.9.13"
  }
 },
 "nbformat": 4,
 "nbformat_minor": 5
}
